{
 "cells": [
  {
   "cell_type": "code",
   "execution_count": 49,
   "metadata": {
    "collapsed": true
   },
   "outputs": [],
   "source": [
    "import csv\n",
    "import pandas as pd"
   ]
  },
  {
   "cell_type": "code",
   "execution_count": 13,
   "metadata": {},
   "outputs": [
    {
     "name": "stderr",
     "output_type": "stream",
     "text": [
      "/Users/dpeskov/anaconda3/envs/ASR/lib/python3.6/site-packages/ipykernel/__main__.py:1: FutureWarning: from_csv is deprecated. Please use read_csv(...) instead. Note that some of the default arguments are different, so please refer to the documentation for from_csv when changing your function calls\n",
      "  if __name__ == '__main__':\n"
     ]
    }
   ],
   "source": [
    "df = pd.DataFrame.from_csv('train.csv')"
   ]
  },
  {
   "cell_type": "code",
   "execution_count": 21,
   "metadata": {},
   "outputs": [
    {
     "data": {
      "text/html": [
       "<div>\n",
       "<style scoped>\n",
       "    .dataframe tbody tr th:only-of-type {\n",
       "        vertical-align: middle;\n",
       "    }\n",
       "\n",
       "    .dataframe tbody tr th {\n",
       "        vertical-align: top;\n",
       "    }\n",
       "\n",
       "    .dataframe thead th {\n",
       "        text-align: right;\n",
       "    }\n",
       "</style>\n",
       "<table border=\"1\" class=\"dataframe\">\n",
       "  <thead>\n",
       "    <tr style=\"text-align: right;\">\n",
       "      <th></th>\n",
       "      <th>teacher_number_of_previously_posted_projects</th>\n",
       "      <th>project_is_approved</th>\n",
       "    </tr>\n",
       "  </thead>\n",
       "  <tbody>\n",
       "    <tr>\n",
       "      <th>count</th>\n",
       "      <td>182080.000000</td>\n",
       "      <td>182080.000000</td>\n",
       "    </tr>\n",
       "    <tr>\n",
       "      <th>mean</th>\n",
       "      <td>11.237055</td>\n",
       "      <td>0.847682</td>\n",
       "    </tr>\n",
       "    <tr>\n",
       "      <th>std</th>\n",
       "      <td>28.016086</td>\n",
       "      <td>0.359330</td>\n",
       "    </tr>\n",
       "    <tr>\n",
       "      <th>min</th>\n",
       "      <td>0.000000</td>\n",
       "      <td>0.000000</td>\n",
       "    </tr>\n",
       "    <tr>\n",
       "      <th>25%</th>\n",
       "      <td>0.000000</td>\n",
       "      <td>1.000000</td>\n",
       "    </tr>\n",
       "    <tr>\n",
       "      <th>50%</th>\n",
       "      <td>2.000000</td>\n",
       "      <td>1.000000</td>\n",
       "    </tr>\n",
       "    <tr>\n",
       "      <th>75%</th>\n",
       "      <td>9.000000</td>\n",
       "      <td>1.000000</td>\n",
       "    </tr>\n",
       "    <tr>\n",
       "      <th>max</th>\n",
       "      <td>451.000000</td>\n",
       "      <td>1.000000</td>\n",
       "    </tr>\n",
       "  </tbody>\n",
       "</table>\n",
       "</div>"
      ],
      "text/plain": [
       "       teacher_number_of_previously_posted_projects  project_is_approved\n",
       "count                                 182080.000000        182080.000000\n",
       "mean                                      11.237055             0.847682\n",
       "std                                       28.016086             0.359330\n",
       "min                                        0.000000             0.000000\n",
       "25%                                        0.000000             1.000000\n",
       "50%                                        2.000000             1.000000\n",
       "75%                                        9.000000             1.000000\n",
       "max                                      451.000000             1.000000"
      ]
     },
     "execution_count": 21,
     "metadata": {},
     "output_type": "execute_result"
    }
   ],
   "source": [
    "df.describe()"
   ]
  },
  {
   "cell_type": "code",
   "execution_count": 23,
   "metadata": {},
   "outputs": [
    {
     "data": {
      "text/plain": [
       "Index(['teacher_id', 'teacher_prefix', 'school_state',\n",
       "       'project_submitted_datetime', 'project_grade_category',\n",
       "       'project_subject_categories', 'project_subject_subcategories',\n",
       "       'project_title', 'project_essay_1', 'project_essay_2',\n",
       "       'project_essay_3', 'project_essay_4', 'project_resource_summary',\n",
       "       'teacher_number_of_previously_posted_projects', 'project_is_approved'],\n",
       "      dtype='object')"
      ]
     },
     "execution_count": 23,
     "metadata": {},
     "output_type": "execute_result"
    }
   ],
   "source": [
    "df.columns"
   ]
  },
  {
   "cell_type": "code",
   "execution_count": 105,
   "metadata": {},
   "outputs": [
    {
     "data": {
      "text/html": [
       "<div>\n",
       "<style scoped>\n",
       "    .dataframe tbody tr th:only-of-type {\n",
       "        vertical-align: middle;\n",
       "    }\n",
       "\n",
       "    .dataframe tbody tr th {\n",
       "        vertical-align: top;\n",
       "    }\n",
       "\n",
       "    .dataframe thead th {\n",
       "        text-align: right;\n",
       "    }\n",
       "</style>\n",
       "<table border=\"1\" class=\"dataframe\">\n",
       "  <thead>\n",
       "    <tr style=\"text-align: right;\">\n",
       "      <th></th>\n",
       "      <th>project_title</th>\n",
       "      <th>project_resource_summary</th>\n",
       "      <th>project_essay_1</th>\n",
       "      <th>project_essay_2</th>\n",
       "      <th>project_is_approved</th>\n",
       "    </tr>\n",
       "    <tr>\n",
       "      <th>id</th>\n",
       "      <th></th>\n",
       "      <th></th>\n",
       "      <th></th>\n",
       "      <th></th>\n",
       "      <th></th>\n",
       "    </tr>\n",
       "  </thead>\n",
       "  <tbody>\n",
       "    <tr>\n",
       "      <th>p036502</th>\n",
       "      <td>super sight word centers</td>\n",
       "      <td>my students need 6 ipod nano's to create and d...</td>\n",
       "      <td>most of my kindergarten students come from low...</td>\n",
       "      <td>i currently have a differentiated sight word c...</td>\n",
       "      <td>1</td>\n",
       "    </tr>\n",
       "    <tr>\n",
       "      <th>p039565</th>\n",
       "      <td>keep calm and dance on</td>\n",
       "      <td>my students need matching shirts to wear for d...</td>\n",
       "      <td>our elementary school is a culturally rich sch...</td>\n",
       "      <td>we strive to provide our diverse population of...</td>\n",
       "      <td>0</td>\n",
       "    </tr>\n",
       "    <tr>\n",
       "      <th>p233823</th>\n",
       "      <td>lets 3doodle to learn</td>\n",
       "      <td>my students need the 3doodler. we are an sem s...</td>\n",
       "      <td>hello;my name is mrs. brotherton. i teach 5th ...</td>\n",
       "      <td>we are looking to add some 3doodler to our cla...</td>\n",
       "      <td>1</td>\n",
       "    </tr>\n",
       "    <tr>\n",
       "      <th>p185307</th>\n",
       "      <td>kid inspired equipment to increase activities ...</td>\n",
       "      <td>my students need balls and other activity equi...</td>\n",
       "      <td>my students are the greatest students but are ...</td>\n",
       "      <td>the student's project which is totally kid-ins...</td>\n",
       "      <td>0</td>\n",
       "    </tr>\n",
       "    <tr>\n",
       "      <th>p013780</th>\n",
       "      <td>we need clean water for our culinary arts class!</td>\n",
       "      <td>my students need a water filtration system for...</td>\n",
       "      <td>my students are athletes and students who are ...</td>\n",
       "      <td>for some reason in our kitchen the water comes...</td>\n",
       "      <td>1</td>\n",
       "    </tr>\n",
       "  </tbody>\n",
       "</table>\n",
       "</div>"
      ],
      "text/plain": [
       "                                             project_title  \\\n",
       "id                                                           \n",
       "p036502                           super sight word centers   \n",
       "p039565                             keep calm and dance on   \n",
       "p233823                              lets 3doodle to learn   \n",
       "p185307  kid inspired equipment to increase activities ...   \n",
       "p013780   we need clean water for our culinary arts class!   \n",
       "\n",
       "                                  project_resource_summary  \\\n",
       "id                                                           \n",
       "p036502  my students need 6 ipod nano's to create and d...   \n",
       "p039565  my students need matching shirts to wear for d...   \n",
       "p233823  my students need the 3doodler. we are an sem s...   \n",
       "p185307  my students need balls and other activity equi...   \n",
       "p013780  my students need a water filtration system for...   \n",
       "\n",
       "                                           project_essay_1  \\\n",
       "id                                                           \n",
       "p036502  most of my kindergarten students come from low...   \n",
       "p039565  our elementary school is a culturally rich sch...   \n",
       "p233823  hello;my name is mrs. brotherton. i teach 5th ...   \n",
       "p185307  my students are the greatest students but are ...   \n",
       "p013780  my students are athletes and students who are ...   \n",
       "\n",
       "                                           project_essay_2 project_is_approved  \n",
       "id                                                                              \n",
       "p036502  i currently have a differentiated sight word c...                   1  \n",
       "p039565  we strive to provide our diverse population of...                   0  \n",
       "p233823  we are looking to add some 3doodler to our cla...                   1  \n",
       "p185307  the student's project which is totally kid-ins...                   0  \n",
       "p013780  for some reason in our kitchen the water comes...                   1  "
      ]
     },
     "execution_count": 105,
     "metadata": {},
     "output_type": "execute_result"
    }
   ],
   "source": [
    "newformat = df[df['project_essay_3'].isnull()]\n",
    "relevant_new = newformat[['project_title', 'project_resource_summary', 'project_essay_1', 'project_essay_2', 'project_is_approved']]\n",
    "relevant_new = relevant_new.replace({r'\\\\r': '', r'\\\\n': '', r'\\\\\"': ''}, regex=True)\n",
    "relevant_new = relevant_new.apply(lambda x: x.astype(str).str.lower())\n",
    "\n",
    "smaller_data = relevant_new[:55000]\n",
    "smaller_data.to_csv('new_data_partial.csv')\n",
    "relevant_new.head()"
   ]
  },
  {
   "cell_type": "code",
   "execution_count": 103,
   "metadata": {},
   "outputs": [
    {
     "data": {
      "text/plain": [
       "878530"
      ]
     },
     "execution_count": 103,
     "metadata": {},
     "output_type": "execute_result"
    }
   ],
   "source": [
    "\n",
    "relevant_new.size"
   ]
  },
  {
   "cell_type": "code",
   "execution_count": 99,
   "metadata": {},
   "outputs": [
    {
     "data": {
      "text/html": [
       "<div>\n",
       "<style scoped>\n",
       "    .dataframe tbody tr th:only-of-type {\n",
       "        vertical-align: middle;\n",
       "    }\n",
       "\n",
       "    .dataframe tbody tr th {\n",
       "        vertical-align: top;\n",
       "    }\n",
       "\n",
       "    .dataframe thead th {\n",
       "        text-align: right;\n",
       "    }\n",
       "</style>\n",
       "<table border=\"1\" class=\"dataframe\">\n",
       "  <thead>\n",
       "    <tr style=\"text-align: right;\">\n",
       "      <th></th>\n",
       "      <th>project_title</th>\n",
       "      <th>project_essay_1</th>\n",
       "      <th>project_essay_2</th>\n",
       "      <th>project_essay_3</th>\n",
       "      <th>project_essay_4</th>\n",
       "      <th>project_is_approved</th>\n",
       "    </tr>\n",
       "    <tr>\n",
       "      <th>id</th>\n",
       "      <th></th>\n",
       "      <th></th>\n",
       "      <th></th>\n",
       "      <th></th>\n",
       "      <th></th>\n",
       "      <th></th>\n",
       "    </tr>\n",
       "  </thead>\n",
       "  <tbody>\n",
       "    <tr>\n",
       "      <th>p232007</th>\n",
       "      <td>watch readers grow!</td>\n",
       "      <td>during our reading workshop students are at da...</td>\n",
       "      <td>my students lack confidence. i have a class wi...</td>\n",
       "      <td>during our reading workshop. we do mini lesson...</td>\n",
       "      <td>your donations would greatly be a blessing for...</td>\n",
       "      <td>1</td>\n",
       "    </tr>\n",
       "    <tr>\n",
       "      <th>p164867</th>\n",
       "      <td>reader's workshop exploration club!!!</td>\n",
       "      <td>we are at a school that has been trained by th...</td>\n",
       "      <td>the students i have now are english language l...</td>\n",
       "      <td>we will be using the books to integrate our re...</td>\n",
       "      <td>your generous donation for this class will giv...</td>\n",
       "      <td>1</td>\n",
       "    </tr>\n",
       "    <tr>\n",
       "      <th>p141508</th>\n",
       "      <td>world history biographies varied by lexile</td>\n",
       "      <td>my classroom is filled three times a day by en...</td>\n",
       "      <td>90% of my students are multi-lingual, usually ...</td>\n",
       "      <td>with the books i've selected, my students will...</td>\n",
       "      <td>with these new books, students will be able to...</td>\n",
       "      <td>1</td>\n",
       "    </tr>\n",
       "    <tr>\n",
       "      <th>p229044</th>\n",
       "      <td>a sensory rich classroom</td>\n",
       "      <td>do you remember sitting in a crowded classroom...</td>\n",
       "      <td>i am the lucky teacher of 6th-8th graders who ...</td>\n",
       "      <td>i envision a classroom where all of my student...</td>\n",
       "      <td>i strive to create a classroom where i can tak...</td>\n",
       "      <td>1</td>\n",
       "    </tr>\n",
       "    <tr>\n",
       "      <th>p193494</th>\n",
       "      <td>magic in making music</td>\n",
       "      <td>my class loves to spend time every day singing...</td>\n",
       "      <td>our class is full of energy and excitement.  t...</td>\n",
       "      <td>students will use instruments to express thems...</td>\n",
       "      <td>this will give students a chance to express th...</td>\n",
       "      <td>1</td>\n",
       "    </tr>\n",
       "  </tbody>\n",
       "</table>\n",
       "</div>"
      ],
      "text/plain": [
       "                                      project_title  \\\n",
       "id                                                    \n",
       "p232007                         watch readers grow!   \n",
       "p164867       reader's workshop exploration club!!!   \n",
       "p141508  world history biographies varied by lexile   \n",
       "p229044                    a sensory rich classroom   \n",
       "p193494                       magic in making music   \n",
       "\n",
       "                                           project_essay_1  \\\n",
       "id                                                           \n",
       "p232007  during our reading workshop students are at da...   \n",
       "p164867  we are at a school that has been trained by th...   \n",
       "p141508  my classroom is filled three times a day by en...   \n",
       "p229044  do you remember sitting in a crowded classroom...   \n",
       "p193494  my class loves to spend time every day singing...   \n",
       "\n",
       "                                           project_essay_2  \\\n",
       "id                                                           \n",
       "p232007  my students lack confidence. i have a class wi...   \n",
       "p164867  the students i have now are english language l...   \n",
       "p141508  90% of my students are multi-lingual, usually ...   \n",
       "p229044  i am the lucky teacher of 6th-8th graders who ...   \n",
       "p193494  our class is full of energy and excitement.  t...   \n",
       "\n",
       "                                           project_essay_3  \\\n",
       "id                                                           \n",
       "p232007  during our reading workshop. we do mini lesson...   \n",
       "p164867  we will be using the books to integrate our re...   \n",
       "p141508  with the books i've selected, my students will...   \n",
       "p229044  i envision a classroom where all of my student...   \n",
       "p193494  students will use instruments to express thems...   \n",
       "\n",
       "                                           project_essay_4 project_is_approved  \n",
       "id                                                                              \n",
       "p232007  your donations would greatly be a blessing for...                   1  \n",
       "p164867  your generous donation for this class will giv...                   1  \n",
       "p141508  with these new books, students will be able to...                   1  \n",
       "p229044  i strive to create a classroom where i can tak...                   1  \n",
       "p193494  this will give students a chance to express th...                   1  "
      ]
     },
     "execution_count": 99,
     "metadata": {},
     "output_type": "execute_result"
    }
   ],
   "source": [
    "oldformat = df[df['project_essay_3'].notnull()]\n",
    "relevant_old = oldformat[['project_title', 'project_essay_1', 'project_essay_2', 'project_essay_3', 'project_essay_4', 'project_is_approved']]\n",
    "relevant_old = relevant_old.replace({r'\\\\r': '', r'\\\\n': '', r'\\\\\"': ''}, regex=True)\n",
    "relevant_old = relevant_old.apply(lambda x: x.astype(str).str.lower())\n",
    "relevant_old.to_csv('old_data.csv')\n",
    "relevant_old.head()"
   ]
  },
  {
   "cell_type": "code",
   "execution_count": 91,
   "metadata": {},
   "outputs": [],
   "source": [
    "#relevant\n"
   ]
  },
  {
   "cell_type": "code",
   "execution_count": 92,
   "metadata": {},
   "outputs": [
    {
     "data": {
      "text/plain": [
       "id\n",
       "p036502    Most of my kindergarten students come from low...\n",
       "p039565    Our elementary school is a culturally rich sch...\n",
       "p233823    Hello;My name is Mrs. Brotherton. I teach 5th ...\n",
       "p185307    My students are the greatest students but are ...\n",
       "p013780    My students are athletes and students who are ...\n",
       "Name: project_essay_1, dtype: object"
      ]
     },
     "execution_count": 92,
     "metadata": {},
     "output_type": "execute_result"
    }
   ],
   "source": [
    "a['project_essay_1'].head()"
   ]
  },
  {
   "cell_type": "code",
   "execution_count": null,
   "metadata": {
    "collapsed": true
   },
   "outputs": [],
   "source": []
  }
 ],
 "metadata": {
  "kernelspec": {
   "display_name": "Python [conda env:ASR]",
   "language": "python",
   "name": "conda-env-ASR-py"
  },
  "language_info": {
   "codemirror_mode": {
    "name": "ipython",
    "version": 3
   },
   "file_extension": ".py",
   "mimetype": "text/x-python",
   "name": "python",
   "nbconvert_exporter": "python",
   "pygments_lexer": "ipython3",
   "version": "3.6.4"
  }
 },
 "nbformat": 4,
 "nbformat_minor": 2
}
